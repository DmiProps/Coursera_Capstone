{
    "cells": [
        {
            "cell_type": "markdown",
            "metadata": {
                "collapsed": true
            },
            "source": "## Segmenting and Clustering Neighborhoods in Toronto"
        },
        {
            "cell_type": "markdown",
            "metadata": {},
            "source": "### Task\nFor this assignment, you will be required to explore and cluster the neighborhoods in Toronto.\n\nStart by creating a new Notebook for this assignment.\nUse the Notebook to build the code to scrape the following Wikipedia page, https://en.wikipedia.org/wiki/List_of_postal_codes_of_Canada:_M, in order to obtain the data that is in the table of postal codes and to transform the data into a pandas dataframe"
        },
        {
            "cell_type": "markdown",
            "metadata": {},
            "source": "### Load xml-data via wiki-page\nLoading page to xml-tree with BeautifulSoup."
        },
        {
            "cell_type": "code",
            "execution_count": 55,
            "metadata": {},
            "outputs": [],
            "source": "# URL source page\nurl = 'https://en.wikipedia.org/wiki/List_of_postal_codes_of_Canada:_M'"
        },
        {
            "cell_type": "code",
            "execution_count": 56,
            "metadata": {},
            "outputs": [],
            "source": "# Import libraries\nimport pandas as pd\nimport numpy as np\nimport requests\nfrom bs4 import BeautifulSoup"
        },
        {
            "cell_type": "code",
            "execution_count": 57,
            "metadata": {},
            "outputs": [],
            "source": "wiki = requests.get(url).text\nsoup = BeautifulSoup(wiki, 'xml')"
        },
        {
            "cell_type": "markdown",
            "metadata": {},
            "source": "### Parse xml-data\nParse loaded xml-data:\n* Find data table\n* For each row get cells\n* Get data from cells\n* Ignore Not assigned borough\n* Replase void meighbourhood\n* Put data in lists"
        },
        {
            "cell_type": "code",
            "execution_count": 58,
            "metadata": {},
            "outputs": [],
            "source": "table = soup.find('table')\n\nPostcode      = []\nBorough       = []\nNeighbourhood = []\n\nfor tr_cell in table.find_all('tr'):\n    \n    Cell_type          = 1\n    Postcode_text      = ''\n    Borough_text       = ''\n    Neighbourhood_text = ''\n    \n    for td_cell in tr_cell.find_all('td'):\n        \n        if Cell_type == 1: \n            Postcode_text = str(td_cell.text).strip()\n            \n        if Cell_type == 2: \n            Borough_text = str(td_cell.text).strip()\n            \n        if Cell_type == 3: \n            Neighbourhood_text = str(td_cell.text).strip()\n            \n        Cell_type += 1\n            \n    if Borough_text == '' or Borough_text == 'Not assigned':\n        continue\n        \n    if Neighbourhood_text == '':\n        Neighbourhood_text = Borough_var\n    else:\n        Neighbourhood_text = Neighbourhood_text.replace(' / ', ', ')\n        \n    Postcode.append(Postcode_text)\n    Borough.append(Borough_text)\n    Neighbourhood.append(Neighbourhood_text)"
        },
        {
            "cell_type": "markdown",
            "metadata": {},
            "source": "### Make DataFrame\nConstruct DataFrame from prepared lists and show head & shape."
        },
        {
            "cell_type": "code",
            "execution_count": 59,
            "metadata": {},
            "outputs": [
                {
                    "data": {
                        "text/html": "<div>\n<style scoped>\n    .dataframe tbody tr th:only-of-type {\n        vertical-align: middle;\n    }\n\n    .dataframe tbody tr th {\n        vertical-align: top;\n    }\n\n    .dataframe thead th {\n        text-align: right;\n    }\n</style>\n<table border=\"1\" class=\"dataframe\">\n  <thead>\n    <tr style=\"text-align: right;\">\n      <th></th>\n      <th>Postcode</th>\n      <th>Borough</th>\n      <th>Neighbourhood</th>\n    </tr>\n  </thead>\n  <tbody>\n    <tr>\n      <th>0</th>\n      <td>M3A</td>\n      <td>North York</td>\n      <td>Parkwoods</td>\n    </tr>\n    <tr>\n      <th>1</th>\n      <td>M4A</td>\n      <td>North York</td>\n      <td>Victoria Village</td>\n    </tr>\n    <tr>\n      <th>2</th>\n      <td>M5A</td>\n      <td>Downtown Toronto</td>\n      <td>Regent Park, Harbourfront</td>\n    </tr>\n    <tr>\n      <th>3</th>\n      <td>M6A</td>\n      <td>North York</td>\n      <td>Lawrence Manor, Lawrence Heights</td>\n    </tr>\n    <tr>\n      <th>4</th>\n      <td>M7A</td>\n      <td>Downtown Toronto</td>\n      <td>Queen's Park, Ontario Provincial Government</td>\n    </tr>\n    <tr>\n      <th>5</th>\n      <td>M9A</td>\n      <td>Etobicoke</td>\n      <td>Islington Avenue</td>\n    </tr>\n    <tr>\n      <th>6</th>\n      <td>M1B</td>\n      <td>Scarborough</td>\n      <td>Malvern, Rouge</td>\n    </tr>\n    <tr>\n      <th>7</th>\n      <td>M3B</td>\n      <td>North York</td>\n      <td>Don Mills</td>\n    </tr>\n    <tr>\n      <th>8</th>\n      <td>M4B</td>\n      <td>East York</td>\n      <td>Parkview Hill, Woodbine Gardens</td>\n    </tr>\n    <tr>\n      <th>9</th>\n      <td>M5B</td>\n      <td>Downtown Toronto</td>\n      <td>Garden District, Ryerson</td>\n    </tr>\n    <tr>\n      <th>10</th>\n      <td>M6B</td>\n      <td>North York</td>\n      <td>Glencairn</td>\n    </tr>\n    <tr>\n      <th>11</th>\n      <td>M9B</td>\n      <td>Etobicoke</td>\n      <td>West Deane Park, Princess Gardens, Martin Grov...</td>\n    </tr>\n  </tbody>\n</table>\n</div>",
                        "text/plain": "   Postcode           Borough  \\\n0       M3A        North York   \n1       M4A        North York   \n2       M5A  Downtown Toronto   \n3       M6A        North York   \n4       M7A  Downtown Toronto   \n5       M9A         Etobicoke   \n6       M1B       Scarborough   \n7       M3B        North York   \n8       M4B         East York   \n9       M5B  Downtown Toronto   \n10      M6B        North York   \n11      M9B         Etobicoke   \n\n                                        Neighbourhood  \n0                                           Parkwoods  \n1                                    Victoria Village  \n2                           Regent Park, Harbourfront  \n3                    Lawrence Manor, Lawrence Heights  \n4         Queen's Park, Ontario Provincial Government  \n5                                    Islington Avenue  \n6                                      Malvern, Rouge  \n7                                           Don Mills  \n8                     Parkview Hill, Woodbine Gardens  \n9                            Garden District, Ryerson  \n10                                          Glencairn  \n11  West Deane Park, Princess Gardens, Martin Grov...  "
                    },
                    "execution_count": 59,
                    "metadata": {},
                    "output_type": "execute_result"
                }
            ],
            "source": "df_source = pd.DataFrame.from_dict({'Postcode' : Postcode, 'Borough' : Borough, 'Neighbourhood' : Neighbourhood})\ndf_source.to_csv('toronto_postcode.csv')\ndf_source.head(12)"
        },
        {
            "cell_type": "code",
            "execution_count": 60,
            "metadata": {},
            "outputs": [
                {
                    "data": {
                        "text/plain": "(103, 3)"
                    },
                    "execution_count": 60,
                    "metadata": {},
                    "output_type": "execute_result"
                }
            ],
            "source": "df_source.shape"
        },
        {
            "cell_type": "code",
            "execution_count": null,
            "metadata": {},
            "outputs": [],
            "source": ""
        }
    ],
    "metadata": {
        "kernelspec": {
            "display_name": "Python 3.6",
            "language": "python",
            "name": "python3"
        },
        "language_info": {
            "codemirror_mode": {
                "name": "ipython",
                "version": 3
            },
            "file_extension": ".py",
            "mimetype": "text/x-python",
            "name": "python",
            "nbconvert_exporter": "python",
            "pygments_lexer": "ipython3",
            "version": "3.6.9"
        }
    },
    "nbformat": 4,
    "nbformat_minor": 1
}